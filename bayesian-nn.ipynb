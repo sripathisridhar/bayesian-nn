{
 "cells": [
  {
   "cell_type": "markdown",
   "metadata": {},
   "source": [
    "#### This code is based on https://bit.ly/39LO0jh"
   ]
  },
  {
   "cell_type": "code",
   "execution_count": 11,
   "metadata": {},
   "outputs": [],
   "source": [
    "import tensorflow as tf\n",
    "import tensorflow_datasets as tfds\n",
    "import numpy as np\n",
    "from tensorflow import keras\n",
    "from tensorflow.keras import layers\n",
    "import tensorflow_probability as tfp"
   ]
  },
  {
   "cell_type": "code",
   "execution_count": 12,
   "metadata": {},
   "outputs": [],
   "source": [
    "# Global vars\n",
    "dataset_size = 4898\n",
    "train_size = int(dataset_size * 0.85)\n",
    "batch_size = 256\n",
    "hidden_units = [8,8]\n",
    "learning_rate = 0.01\n",
    "num_epochs = 100\n",
    "sample = 10"
   ]
  },
  {
   "cell_type": "code",
   "execution_count": 13,
   "metadata": {},
   "outputs": [],
   "source": [
    "def get_splits(train_size, batch_size=1):\n",
    "\n",
    "    dataset = (\n",
    "        tfds.load(name=\"wine_quality\", as_supervised=True, split=\"train\")\n",
    "        .map(lambda x, y: (x, tf.cast(y, tf.float32)))\n",
    "        .prefetch(buffer_size=dataset_size)\n",
    "        .cache()\n",
    "    )\n",
    "\n",
    "    train_dataset = (\n",
    "        dataset.take(train_size).shuffle(buffer_size=train_size).batch(batch_size)\n",
    "    )\n",
    "    test_dataset = dataset.skip(train_size).batch(batch_size)\n",
    "\n",
    "    return train_dataset, test_dataset"
   ]
  },
  {
   "cell_type": "code",
   "execution_count": 35,
   "metadata": {},
   "outputs": [],
   "source": [
    "def run_experiment(model, loss, train_dataset, test_dataset):\n",
    "\n",
    "    model.compile(\n",
    "        optimizer=keras.optimizers.RMSprop(learning_rate=learning_rate),\n",
    "        loss=loss,\n",
    "        metrics=[keras.metrics.RootMeanSquaredError()]\n",
    "    )\n",
    "\n",
    "    print(\"Started training the model...\")\n",
    "    history = model.fit(train_dataset, epochs=num_epochs, validation_data=test_dataset)\n",
    "    print(\"Finished training the model\")\n",
    "    _, rmse = model.evaluate(train_dataset, verbose=0)\n",
    "    print(f\"The training rms error is {round(rmse, 3)}\")\n",
    "    _, rmse = model.evaluate(test_dataset, verbose=0)\n",
    "    print(f\"The test rms error is {round(rmse, 3)}\")\n",
    "\n",
    "    return history"
   ]
  },
  {
   "cell_type": "code",
   "execution_count": 15,
   "metadata": {},
   "outputs": [],
   "source": [
    "FEATURE_NAMES = [\n",
    "    \"fixed acidity\",\n",
    "    \"volatile acidity\",\n",
    "    \"citric acid\",\n",
    "    \"residual sugar\",\n",
    "    \"chlorides\",\n",
    "    \"free sulfur dioxide\",\n",
    "    \"total sulfur dioxide\",\n",
    "    \"density\",\n",
    "    \"pH\",\n",
    "    \"sulphates\",\n",
    "    \"alcohol\",\n",
    "]\n",
    "\n",
    "def create_model_inputs():\n",
    "    inputs = {}\n",
    "    for feature_name in FEATURE_NAMES:\n",
    "        inputs[feature_name] = layers.Input(\n",
    "            name=feature_name, shape=(1,), dtype=tf.float32\n",
    "        )\n",
    "    return inputs"
   ]
  },
  {
   "cell_type": "markdown",
   "metadata": {},
   "source": [
    "## Point estimate BNN"
   ]
  },
  {
   "cell_type": "code",
   "execution_count": 16,
   "metadata": {},
   "outputs": [],
   "source": [
    "def prior(kernel_size, bias_size, dtype=None):\n",
    "    n = kernel_size + bias_size\n",
    "    prior_model = keras.Sequential(\n",
    "        [\n",
    "            tfp.layers.DistributionLambda(\n",
    "                lambda t: tfp.distributions.MultivariateNormalDiag(\n",
    "                    loc=tf.zeros(n), scale_diag=tf.ones(n)\n",
    "                )\n",
    "            )\n",
    "        ]\n",
    "    )\n",
    "    return prior_model\n",
    "\n",
    "def posterior(kernel_size, bias_size, dtype=None):\n",
    "    n = kernel_size + bias_size\n",
    "    posterior_model = keras.Sequential(\n",
    "        [\n",
    "            tfp.layers.VariableLayer(\n",
    "                tfp.layers.MultivariateNormalTriL.params_size(n), \n",
    "                dtype=dtype\n",
    "            ),\n",
    "            tfp.layers.MultivariateNormalTriL(n)\n",
    "        ]\n",
    "    )\n",
    "    return posterior_model"
   ]
  },
  {
   "cell_type": "code",
   "execution_count": 17,
   "metadata": {},
   "outputs": [],
   "source": [
    "def create_bnn_model(train_size):\n",
    "    inputs = create_model_inputs()\n",
    "    features = keras.layers.concatenate(list(inputs.values()))\n",
    "    features = layers.BatchNormalization()(features)\n",
    "\n",
    "    for units in hidden_units:\n",
    "        features = tfp.layers.DenseVariational(\n",
    "            units=units,\n",
    "            make_prior_fn=prior,\n",
    "            make_posterior_fn=posterior,\n",
    "            kl_weight=1 / train_size,\n",
    "            activation=\"sigmoid\"\n",
    "        )(features)\n",
    "    \n",
    "    outputs = layers.Dense(units=1)(features)\n",
    "    model = keras.Model(inputs=inputs, outputs=outputs)\n",
    "    return model"
   ]
  },
  {
   "cell_type": "code",
   "execution_count": null,
   "metadata": {},
   "outputs": [],
   "source": [
    "train_dataset, test_dataset = get_splits(train_size, batch_size)\n",
    "small_train_dataset = train_dataset.unbatch().take(train_size).batch(batch_size)\n",
    "bnn_model = create_bnn_model(train_size)\n",
    "mse_loss = keras.losses.MeanSquaredError()\n",
    "run_experiment(bnn_model, mse_loss, small_train_dataset, test_dataset)"
   ]
  },
  {
   "cell_type": "code",
   "execution_count": 19,
   "metadata": {},
   "outputs": [
    {
     "name": "stdout",
     "output_type": "stream",
     "text": [
      "Predictions mean: 5.31, min: 4.38, max: 5.95, range: 1.57, Actual: 4.0\n",
      "Predictions mean: 5.34, min: 4.38, max: 6.13, range: 1.75, Actual: 5.0\n",
      "Predictions mean: 5.37, min: 4.38, max: 6.17, range: 1.79, Actual: 5.0\n",
      "Predictions mean: 6.28, min: 5.52, max: 6.36, range: 0.84, Actual: 7.0\n",
      "Predictions mean: 5.78, min: 4.69, max: 6.32, range: 1.63, Actual: 6.0\n",
      "Predictions mean: 6.17, min: 4.98, max: 6.36, range: 1.37, Actual: 6.0\n",
      "Predictions mean: 6.07, min: 4.98, max: 6.35, range: 1.37, Actual: 7.0\n",
      "Predictions mean: 5.74, min: 4.89, max: 6.27, range: 1.38, Actual: 5.0\n",
      "Predictions mean: 5.99, min: 5.08, max: 6.33, range: 1.25, Actual: 7.0\n",
      "Predictions mean: 5.37, min: 4.59, max: 6.17, range: 1.58, Actual: 5.0\n"
     ]
    }
   ],
   "source": [
    "examples, targets = list(test_dataset\n",
    ".unbatch()\n",
    ".shuffle(batch_size * 10)\n",
    ".batch(sample))[0]\n",
    "def compute_predictions(model, iterations=100):\n",
    "    predicted = []\n",
    "    for _ in range(iterations):\n",
    "        predicted.append(model(examples).numpy())\n",
    "    predicted = np.concatenate(predicted, axis=1)\n",
    "\n",
    "    prediction_mean = np.mean(predicted, axis=1).tolist()\n",
    "    prediction_min = np.min(predicted, axis=1).tolist()\n",
    "    prediction_max = np.max(predicted, axis=1).tolist()\n",
    "    prediction_range = (\n",
    "        np.max(predicted, axis=1) - np.min(predicted, axis=1)\n",
    "    ).tolist()\n",
    "\n",
    "    for idx in range(sample):\n",
    "        print(\n",
    "        f\"Predictions mean: {round(prediction_mean[idx], 2)}, \"\n",
    "        f\"min: {round(prediction_min[idx], 2)}, \"\n",
    "        f\"max: {round(prediction_max[idx], 2)}, \"\n",
    "        f\"range: {round(prediction_range[idx], 2)}, \"\n",
    "        f\"Actual: {targets[idx]}\" \n",
    "        )\n",
    "\n",
    "compute_predictions(bnn_model)"
   ]
  },
  {
   "cell_type": "markdown",
   "metadata": {},
   "source": [
    "## Probabilistic BNN"
   ]
  },
  {
   "cell_type": "code",
   "execution_count": 28,
   "metadata": {},
   "outputs": [],
   "source": [
    "def create_probabilistic_bnn_model(train_size, prior_fn=prior):\n",
    "    inputs = create_model_inputs()\n",
    "    features = keras.layers.concatenate(list(inputs.values()))\n",
    "    features = layers.BatchNormalization()(features)\n",
    "\n",
    "    for units in hidden_units:\n",
    "        features = tfp.layers.DenseVariational(\n",
    "            units=units,\n",
    "            make_prior_fn=prior_fn,\n",
    "            make_posterior_fn=posterior,\n",
    "            kl_weight=1 / train_size,\n",
    "            activation=\"sigmoid\"\n",
    "        )(features)\n",
    "    \n",
    "    distribution_params = layers.Dense(units=2)(features)\n",
    "    outputs = tfp.layers.IndependentNormal(1)(distribution_params)\n",
    "\n",
    "    model = keras.Model(inputs=inputs, outputs=outputs)\n",
    "    return model"
   ]
  },
  {
   "cell_type": "code",
   "execution_count": null,
   "metadata": {},
   "outputs": [],
   "source": [
    "def negative_loglikelihood(targets, estimated_distribution):\n",
    "    return -estimated_distribution.log_prob(targets)\n",
    "\n",
    "num_epochs = 1000\n",
    "prob_bnn_model = create_probabilistic_bnn_model(train_size)\n",
    "history = run_experiment(prob_bnn_model, \n",
    "negative_loglikelihood, \n",
    "train_dataset, \n",
    "test_dataset)"
   ]
  },
  {
   "cell_type": "code",
   "execution_count": 37,
   "metadata": {},
   "outputs": [
    {
     "name": "stdout",
     "output_type": "stream",
     "text": [
      "Prediction mean: 5.31, Stddev: 0.68, 95%CI: [3.97,6.64]Actual: 4.0\n",
      "Prediction mean: 5.31, Stddev: 0.68, 95%CI: [3.97,6.64]Actual: 5.0\n",
      "Prediction mean: 5.41, Stddev: 0.69, 95%CI: [4.06,6.77]Actual: 5.0\n",
      "Prediction mean: 6.24, Stddev: 0.82, 95%CI: [4.63,7.84]Actual: 7.0\n",
      "Prediction mean: 5.47, Stddev: 0.7, 95%CI: [4.09,6.84]Actual: 6.0\n",
      "Prediction mean: 6.02, Stddev: 0.78, 95%CI: [4.49,7.55]Actual: 6.0\n",
      "Prediction mean: 5.61, Stddev: 0.72, 95%CI: [4.2,7.02]Actual: 7.0\n",
      "Prediction mean: 5.56, Stddev: 0.71, 95%CI: [4.16,6.95]Actual: 5.0\n",
      "Prediction mean: 5.9, Stddev: 0.76, 95%CI: [4.4,7.4]Actual: 7.0\n",
      "Prediction mean: 5.33, Stddev: 0.69, 95%CI: [3.99,6.68]Actual: 5.0\n"
     ]
    }
   ],
   "source": [
    "prediction_distribution = prob_bnn_model(examples)\n",
    "prediction_mean = prediction_distribution.mean().numpy().tolist()\n",
    "prediction_std = prediction_distribution.stddev().numpy()\n",
    "\n",
    "upper = (prediction_mean + 1.96 * prediction_std).tolist()\n",
    "lower = (prediction_mean - 1.96 * prediction_std).tolist()\n",
    "prediction_std = prediction_std.tolist()\n",
    "\n",
    "for idx in range(sample):\n",
    "    print(\n",
    "        f\"Prediction mean: {round(prediction_mean[idx][0], 2)}, \"\n",
    "        f\"Stddev: {round(prediction_std[idx][0], 2)}, \"\n",
    "        f\"95%CI: [{round(lower[idx][0], 2)},{round(upper[idx][0], 2)}]\"\n",
    "        f\"Actual: {targets[idx]}\"\n",
    "    )"
   ]
  },
  {
   "cell_type": "code",
   "execution_count": 39,
   "metadata": {},
   "outputs": [
    {
     "data": {
      "text/plain": [
       "Text(0, 0.5, 'RMS error')"
      ]
     },
     "execution_count": 39,
     "metadata": {},
     "output_type": "execute_result"
    },
    {
     "data": {
      "image/png": "[encoded data removed]",
      "text/plain": [
       "<Figure size 432x288 with 1 Axes>"
      ]
     },
     "metadata": {
      "needs_background": "light"
     },
     "output_type": "display_data"
    }
   ],
   "source": [
    "import matplotlib.pyplot as plt\n",
    "plt.plot(history.history['loss'])\n",
    "plt.title('Training loss')\n",
    "plt.xlabel(\"Iterations\")\n",
    "plt.ylabel(\"RMS error\")"
   ]
  },
  {
   "cell_type": "markdown",
   "metadata": {},
   "source": [
    "### Logistic regression baseline"
   ]
  },
  {
   "cell_type": "code",
   "execution_count": 40,
   "metadata": {},
   "outputs": [],
   "source": [
    "from sklearn.linear_model import LogisticRegression"
   ]
  },
  {
   "cell_type": "code",
   "execution_count": 41,
   "metadata": {},
   "outputs": [
    {
     "data": {
      "text/plain": [
       "<BatchDataset element_spec=({'alcohol': TensorSpec(shape=(None,), dtype=tf.float32, name=None), 'chlorides': TensorSpec(shape=(None,), dtype=tf.float32, name=None), 'citric acid': TensorSpec(shape=(None,), dtype=tf.float32, name=None), 'density': TensorSpec(shape=(None,), dtype=tf.float32, name=None), 'fixed acidity': TensorSpec(shape=(None,), dtype=tf.float32, name=None), 'free sulfur dioxide': TensorSpec(shape=(None,), dtype=tf.float32, name=None), 'pH': TensorSpec(shape=(None,), dtype=tf.float32, name=None), 'residual sugar': TensorSpec(shape=(None,), dtype=tf.float32, name=None), 'sulphates': TensorSpec(shape=(None,), dtype=tf.float64, name=None), 'total sulfur dioxide': TensorSpec(shape=(None,), dtype=tf.float32, name=None), 'volatile acidity': TensorSpec(shape=(None,), dtype=tf.float32, name=None)}, TensorSpec(shape=(None,), dtype=tf.float32, name=None))>"
      ]
     },
     "execution_count": 41,
     "metadata": {},
     "output_type": "execute_result"
    }
   ],
   "source": [
    "train_dataset"
   ]
  },
  {
   "cell_type": "code",
   "execution_count": 31,
   "metadata": {},
   "outputs": [],
   "source": [
    "def trainable_prior(kernel_size, bias_size, dtype=None):\n",
    "    n = kernel_size + bias_size\n",
    "    prior_model = keras.Sequential(\n",
    "        [\n",
    "            tfp.layers.DistributionLambda(\n",
    "        lambda t: tfp.distributions.MultivariateNormalDiag(\n",
    "            loc=t * tf.ones(n), scale_diag=t * tf.ones(n)\n",
    "            )\n",
    "        )\n",
    "        ]\n",
    "    )\n",
    "    return prior_model"
   ]
  },
  {
   "cell_type": "code",
   "execution_count": null,
   "metadata": {},
   "outputs": [],
   "source": [
    "prob_bnn_model_trainable = create_probabilistic_bnn_model(train_size, trainable_prior)\n",
    "run_experiment(prob_bnn_model_trainable, \n",
    "negative_loglikelihood, train_dataset, test_dataset)"
   ]
  },
  {
   "cell_type": "code",
   "execution_count": null,
   "metadata": {},
   "outputs": [],
   "source": [
    "prediction_distribution = prob_bnn_model(examples)\n",
    "prediction_mean = prediction_distribution.mean().numpy().tolist()\n",
    "prediction_std = prediction_distribution.stddev().numpy()\n",
    "\n",
    "upper = (prediction_mean + 1.96 * prediction_std).tolist()\n",
    "lower = (prediction_mean - 1.96 * prediction_std).tolist()\n",
    "prediction_std = prediction_std.tolist()\n",
    "\n",
    "for idx in range(sample):\n",
    "    print(\n",
    "        f\"Prediction mean: {round(prediction_mean[idx][0], 2)}, \"\n",
    "        f\"Stddev: {round(prediction_std[idx][0], 2)}, \"\n",
    "        f\"95%CI: [{round(lower[idx][0], 2)},{round(upper[idx][0], 2)}]\"\n",
    "        f\"Actual: {targets[idx]}\"\n",
    "    )"
   ]
  }
 ],
 "metadata": {
  "interpreter": {
   "hash": "fe38411a3bc59f9d2cdd582bb1978bf6bea7ff93d872583d8139a2f42012f8ae"
  },
  "kernelspec": {
   "display_name": "Python 3.7.12 ('mlos')",
   "language": "python",
   "name": "python3"
  },
  "language_info": {
   "codemirror_mode": {
    "name": "ipython",
    "version": 3
   },
   "file_extension": ".py",
   "mimetype": "text/x-python",
   "name": "python",
   "nbconvert_exporter": "python",
   "pygments_lexer": "ipython3",
   "version": "3.7.12"
  },
  "orig_nbformat": 4
 },
 "nbformat": 4,
 "nbformat_minor": 2
}
